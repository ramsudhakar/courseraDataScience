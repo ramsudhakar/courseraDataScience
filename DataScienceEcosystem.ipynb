{
 "cells": [
  {
   "cell_type": "markdown",
   "id": "4dd754d8-105d-48e7-a409-f949ed6b6783",
   "metadata": {},
   "source": [
    "# Data Science Tools and Ecosystem"
   ]
  },
  {
   "cell_type": "markdown",
   "id": "43a54920-e459-4823-bbd1-3dc612988c79",
   "metadata": {},
   "source": [
    "In this notebook, Data Science Tools and Ecosystem are summarized."
   ]
  },
  {
   "cell_type": "markdown",
   "id": "98e58722-8543-4c91-8aac-ab77db84f663",
   "metadata": {},
   "source": [
    "Some of the popular languages that Data Scientists use are:\n",
    "1. SQL\n",
    "2. Python\n",
    "3. R"
   ]
  },
  {
   "cell_type": "markdown",
   "id": "dec6b66d-30f8-498d-9aa6-591269205c86",
   "metadata": {},
   "source": [
    "Some of the commonly used libraries used by Data Scientists include:\n",
    "1. pandas\n",
    "2. matplotlib\n",
    "3. numpy\n"
   ]
  },
  {
   "cell_type": "markdown",
   "id": "31c27004-7a53-4439-804e-a0c13f884bc6",
   "metadata": {},
   "source": [
    "| Data Science Tools         |\n",
    "|----------------------------|\n",
    "| Jupyter Notebook           |\n",
    "| RStudio                    |\n",
    "| Apache Zeppelin            |\n"
   ]
  },
  {
   "cell_type": "markdown",
   "id": "2d8c71d8-4c5e-4552-a789-0cb596a826a7",
   "metadata": {},
   "source": [
    "### Below are a few examples of evaluating arithmetic expressions in Python"
   ]
  },
  {
   "cell_type": "code",
   "execution_count": 2,
   "id": "f1e9bf08-339e-453a-94f4-3e16c5430bdf",
   "metadata": {},
   "outputs": [
    {
     "data": {
      "text/plain": [
       "17"
      ]
     },
     "execution_count": 2,
     "metadata": {},
     "output_type": "execute_result"
    }
   ],
   "source": [
    "#This a simple arithmetic expression to mutiply then add integers\n",
    "(3*4)+5"
   ]
  },
  {
   "cell_type": "code",
   "execution_count": 3,
   "id": "0626756f-cd5e-4d50-8900-476a310c4a21",
   "metadata": {},
   "outputs": [
    {
     "name": "stdout",
     "output_type": "stream",
     "text": [
      "hours :  3.3333333333333335\n"
     ]
    }
   ],
   "source": [
    "# This will convert 200 minutes to hours by diving by 60\n",
    "hours = 200 / 60\n",
    "print(\"hours : \", hours)"
   ]
  },
  {
   "cell_type": "markdown",
   "id": "4291f346-cf2e-46f3-84d5-c7a6a68d76dd",
   "metadata": {},
   "source": [
    "**Objectives:**\n",
    "\n",
    "- List popular languages for Data Science.\n",
    "- Understand the key libraries and tools used in Data Science.\n",
    "- Explore development environments like Jupyter Notebook and RStudio.\n",
    "- Perform basic data manipulations and visualizations.\n",
    "\n"
   ]
  },
  {
   "cell_type": "markdown",
   "id": "8764e50a-322d-4c0e-8cd9-324e0bd1c58a",
   "metadata": {},
   "source": [
    "## Author\n",
    "Ramasudhakar Dhullipudi"
   ]
  },
  {
   "cell_type": "code",
   "execution_count": null,
   "id": "b97c5a9f-2091-4933-8d3b-61e05a873c2d",
   "metadata": {},
   "outputs": [],
   "source": []
  }
 ],
 "metadata": {
  "kernelspec": {
   "display_name": "Python 3 (ipykernel)",
   "language": "python",
   "name": "python3"
  },
  "language_info": {
   "codemirror_mode": {
    "name": "ipython",
    "version": 3
   },
   "file_extension": ".py",
   "mimetype": "text/x-python",
   "name": "python",
   "nbconvert_exporter": "python",
   "pygments_lexer": "ipython3",
   "version": "3.12.3"
  }
 },
 "nbformat": 4,
 "nbformat_minor": 5
}
